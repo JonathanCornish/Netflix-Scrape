{
  "nbformat": 4,
  "nbformat_minor": 0,
  "metadata": {
    "colab": {
      "name": "Wikipedia-Netflix-Scrape.ipynb",
      "provenance": [],
      "collapsed_sections": [],
      "authorship_tag": "ABX9TyO0ABA20qoMaus2RwhkZJFH",
      "include_colab_link": true
    },
    "kernelspec": {
      "name": "python3",
      "display_name": "Python 3"
    }
  },
  "cells": [
    {
      "cell_type": "markdown",
      "metadata": {
        "id": "view-in-github",
        "colab_type": "text"
      },
      "source": [
        "<a href=\"https://colab.research.google.com/github/JonathanCornish/Netflix-Scrape/blob/master/Wikipedia_Netflix_Scrape.ipynb\" target=\"_parent\"><img src=\"https://colab.research.google.com/assets/colab-badge.svg\" alt=\"Open In Colab\"/></a>"
      ]
    },
    {
      "cell_type": "code",
      "metadata": {
        "id": "wQbszCscJHWM",
        "colab_type": "code",
        "colab": {}
      },
      "source": [
        "import requests\n",
        "import re\n",
        "from bs4 import BeautifulSoup"
      ],
      "execution_count": 18,
      "outputs": []
    },
    {
      "cell_type": "code",
      "metadata": {
        "id": "cehiwjrIJaQR",
        "colab_type": "code",
        "colab": {}
      },
      "source": [
        "orig_show_url = \"https://en.wikipedia.org/wiki/List_of_Netflix_original_programming\"\n",
        "orig_film_url = \"https://en.wikipedia.org/wiki/List_of_Netflix_original_films\"\n",
        "orig_comedy_url = \"https://en.wikipedia.org/wiki/List_of_Netflix_original_stand-up_comedy_specials\""
      ],
      "execution_count": 19,
      "outputs": []
    },
    {
      "cell_type": "code",
      "metadata": {
        "id": "VSSdyz8FLuZ7",
        "colab_type": "code",
        "colab": {}
      },
      "source": [
        "import pandas as pd"
      ],
      "execution_count": 20,
      "outputs": []
    },
    {
      "cell_type": "code",
      "metadata": {
        "id": "ZyF7wMDiTrAr",
        "colab_type": "code",
        "colab": {
          "base_uri": "https://localhost:8080/",
          "height": 35
        },
        "outputId": "c35a6263-b035-4051-a5f2-daed0a23352e"
      },
      "source": [
        "# get all the tables from the Wikipedia page on all Netflix original stand-ups\n",
        "comedy_tables_all = pd.read_html(orig_comedy_url, attrs = {\"class\": \"wikitable\"})\n",
        "# show the number of tables on the page containing info on Netflix's original stand-ups programming over time\n",
        "len(comedy_tables_all)"
      ],
      "execution_count": 21,
      "outputs": [
        {
          "output_type": "execute_result",
          "data": {
            "text/plain": [
              "4"
            ]
          },
          "metadata": {
            "tags": []
          },
          "execution_count": 21
        }
      ]
    },
    {
      "cell_type": "code",
      "metadata": {
        "id": "hu4KNnpXWehE",
        "colab_type": "code",
        "colab": {
          "base_uri": "https://localhost:8080/",
          "height": 203
        },
        "outputId": "2cfd658e-6730-4efb-c7e6-533e72886285"
      },
      "source": [
        "comedy_tables_all[0].tail()"
      ],
      "execution_count": 22,
      "outputs": [
        {
          "output_type": "execute_result",
          "data": {
            "text/html": [
              "<div>\n",
              "<style scoped>\n",
              "    .dataframe tbody tr th:only-of-type {\n",
              "        vertical-align: middle;\n",
              "    }\n",
              "\n",
              "    .dataframe tbody tr th {\n",
              "        vertical-align: top;\n",
              "    }\n",
              "\n",
              "    .dataframe thead th {\n",
              "        text-align: right;\n",
              "    }\n",
              "</style>\n",
              "<table border=\"1\" class=\"dataframe\">\n",
              "  <thead>\n",
              "    <tr style=\"text-align: right;\">\n",
              "      <th></th>\n",
              "      <th>Title</th>\n",
              "      <th>Premiere</th>\n",
              "      <th>Length</th>\n",
              "      <th>Language</th>\n",
              "    </tr>\n",
              "  </thead>\n",
              "  <tbody>\n",
              "    <tr>\n",
              "      <th>232</th>\n",
              "      <td>Urzila Carlson: Overqualified Loser</td>\n",
              "      <td>July 14, 2020</td>\n",
              "      <td>1 hour, 2 min.</td>\n",
              "      <td>English</td>\n",
              "    </tr>\n",
              "    <tr>\n",
              "      <th>233</th>\n",
              "      <td>Jack Whitehall: I'm Only Joking</td>\n",
              "      <td>July 21, 2020</td>\n",
              "      <td>58 min.</td>\n",
              "      <td>English</td>\n",
              "    </tr>\n",
              "    <tr>\n",
              "      <th>234</th>\n",
              "      <td>Awaiting release</td>\n",
              "      <td>Awaiting release</td>\n",
              "      <td>Awaiting release</td>\n",
              "      <td>Awaiting release</td>\n",
              "    </tr>\n",
              "    <tr>\n",
              "      <th>235</th>\n",
              "      <td>Sam Jay: 3 in the Morning[1]</td>\n",
              "      <td>August 4, 2020</td>\n",
              "      <td>TBA</td>\n",
              "      <td>English</td>\n",
              "    </tr>\n",
              "    <tr>\n",
              "      <th>236</th>\n",
              "      <td>Rob Schneider: Asian Momma, Mexican Kids[2]</td>\n",
              "      <td>August 11, 2020</td>\n",
              "      <td>TBA</td>\n",
              "      <td>English</td>\n",
              "    </tr>\n",
              "  </tbody>\n",
              "</table>\n",
              "</div>"
            ],
            "text/plain": [
              "                                           Title  ...          Language\n",
              "232          Urzila Carlson: Overqualified Loser  ...           English\n",
              "233              Jack Whitehall: I'm Only Joking  ...           English\n",
              "234                             Awaiting release  ...  Awaiting release\n",
              "235                 Sam Jay: 3 in the Morning[1]  ...           English\n",
              "236  Rob Schneider: Asian Momma, Mexican Kids[2]  ...           English\n",
              "\n",
              "[5 rows x 4 columns]"
            ]
          },
          "metadata": {
            "tags": []
          },
          "execution_count": 22
        }
      ]
    },
    {
      "cell_type": "code",
      "metadata": {
        "id": "qo2hAcyrQ1Hp",
        "colab_type": "code",
        "colab": {}
      },
      "source": [
        "# By inspecting the Wikipedia page we can see what each of these tables are. Let's name them for clarity:\n",
        "# released comedy specials:\n",
        "released_com_specials = comedy_tables_all[0]\n",
        "# released comedy series & collections:\n",
        "released_com_series = comedy_tables_all[1]\n",
        "# upcoming comedy specials:\n",
        "upcom_com_specials = comedy_tables_all[2]\n",
        "# upcoming comedy series & collections:\n",
        "upcom_com_series = comedy_tables_all[3]"
      ],
      "execution_count": 23,
      "outputs": []
    },
    {
      "cell_type": "code",
      "metadata": {
        "id": "YfvewqquY9DP",
        "colab_type": "code",
        "colab": {
          "base_uri": "https://localhost:8080/",
          "height": 203
        },
        "outputId": "844fc7cf-91ad-447f-d25c-1aa5dbe67131"
      },
      "source": [
        "# let's inspect the table showing info on previously released Netflix comedy specials:\n",
        "released_com_specials.tail()"
      ],
      "execution_count": 24,
      "outputs": [
        {
          "output_type": "execute_result",
          "data": {
            "text/html": [
              "<div>\n",
              "<style scoped>\n",
              "    .dataframe tbody tr th:only-of-type {\n",
              "        vertical-align: middle;\n",
              "    }\n",
              "\n",
              "    .dataframe tbody tr th {\n",
              "        vertical-align: top;\n",
              "    }\n",
              "\n",
              "    .dataframe thead th {\n",
              "        text-align: right;\n",
              "    }\n",
              "</style>\n",
              "<table border=\"1\" class=\"dataframe\">\n",
              "  <thead>\n",
              "    <tr style=\"text-align: right;\">\n",
              "      <th></th>\n",
              "      <th>Title</th>\n",
              "      <th>Premiere</th>\n",
              "      <th>Length</th>\n",
              "      <th>Language</th>\n",
              "    </tr>\n",
              "  </thead>\n",
              "  <tbody>\n",
              "    <tr>\n",
              "      <th>232</th>\n",
              "      <td>Urzila Carlson: Overqualified Loser</td>\n",
              "      <td>July 14, 2020</td>\n",
              "      <td>1 hour, 2 min.</td>\n",
              "      <td>English</td>\n",
              "    </tr>\n",
              "    <tr>\n",
              "      <th>233</th>\n",
              "      <td>Jack Whitehall: I'm Only Joking</td>\n",
              "      <td>July 21, 2020</td>\n",
              "      <td>58 min.</td>\n",
              "      <td>English</td>\n",
              "    </tr>\n",
              "    <tr>\n",
              "      <th>234</th>\n",
              "      <td>Awaiting release</td>\n",
              "      <td>Awaiting release</td>\n",
              "      <td>Awaiting release</td>\n",
              "      <td>Awaiting release</td>\n",
              "    </tr>\n",
              "    <tr>\n",
              "      <th>235</th>\n",
              "      <td>Sam Jay: 3 in the Morning[1]</td>\n",
              "      <td>August 4, 2020</td>\n",
              "      <td>TBA</td>\n",
              "      <td>English</td>\n",
              "    </tr>\n",
              "    <tr>\n",
              "      <th>236</th>\n",
              "      <td>Rob Schneider: Asian Momma, Mexican Kids[2]</td>\n",
              "      <td>August 11, 2020</td>\n",
              "      <td>TBA</td>\n",
              "      <td>English</td>\n",
              "    </tr>\n",
              "  </tbody>\n",
              "</table>\n",
              "</div>"
            ],
            "text/plain": [
              "                                           Title  ...          Language\n",
              "232          Urzila Carlson: Overqualified Loser  ...           English\n",
              "233              Jack Whitehall: I'm Only Joking  ...           English\n",
              "234                             Awaiting release  ...  Awaiting release\n",
              "235                 Sam Jay: 3 in the Morning[1]  ...           English\n",
              "236  Rob Schneider: Asian Momma, Mexican Kids[2]  ...           English\n",
              "\n",
              "[5 rows x 4 columns]"
            ]
          },
          "metadata": {
            "tags": []
          },
          "execution_count": 24
        }
      ]
    },
    {
      "cell_type": "code",
      "metadata": {
        "id": "cXIPATskwZOy",
        "colab_type": "code",
        "colab": {
          "base_uri": "https://localhost:8080/",
          "height": 105
        },
        "outputId": "bcd4273e-ffad-4930-d93f-f8b436306062"
      },
      "source": [
        "# inspect the type of each column:\n",
        "released_com_specials.dtypes"
      ],
      "execution_count": 25,
      "outputs": [
        {
          "output_type": "execute_result",
          "data": {
            "text/plain": [
              "Title       object\n",
              "Premiere    object\n",
              "Length      object\n",
              "Language    object\n",
              "dtype: object"
            ]
          },
          "metadata": {
            "tags": []
          },
          "execution_count": 25
        }
      ]
    },
    {
      "cell_type": "code",
      "metadata": {
        "id": "3XPQgfJwwphO",
        "colab_type": "code",
        "colab": {
          "base_uri": "https://localhost:8080/",
          "height": 105
        },
        "outputId": "19e20863-783d-4da3-ae44-146a3c45094a"
      },
      "source": [
        "# change the Premiere column from object to string:\n",
        "released_com_specials['Premiere'] = released_com_specials['Premiere'].astype('string')\n",
        "released_com_specials.dtypes"
      ],
      "execution_count": 26,
      "outputs": [
        {
          "output_type": "execute_result",
          "data": {
            "text/plain": [
              "Title       object\n",
              "Premiere    string\n",
              "Length      object\n",
              "Language    object\n",
              "dtype: object"
            ]
          },
          "metadata": {
            "tags": []
          },
          "execution_count": 26
        }
      ]
    },
    {
      "cell_type": "code",
      "metadata": {
        "id": "e1XHW0ih0qG8",
        "colab_type": "code",
        "colab": {
          "base_uri": "https://localhost:8080/",
          "height": 203
        },
        "outputId": "d9c4c388-4be2-4d5e-8466-13b3e4955bdd"
      },
      "source": [
        "# from several columns above we see that there is a line showing not a date but 'Awaiting release', which throws off our calculation.\n",
        "# let's create a new data table which deletes any line where the word 'Awaiting' appears within the Premiere column:\n",
        "released_com_specials_2 = released_com_specials[~released_com_specials.Premiere.str.contains(\"Awaiting\")]\n",
        "# and print out to show it's gone:\n",
        "released_com_specials_2.tail()"
      ],
      "execution_count": 27,
      "outputs": [
        {
          "output_type": "execute_result",
          "data": {
            "text/html": [
              "<div>\n",
              "<style scoped>\n",
              "    .dataframe tbody tr th:only-of-type {\n",
              "        vertical-align: middle;\n",
              "    }\n",
              "\n",
              "    .dataframe tbody tr th {\n",
              "        vertical-align: top;\n",
              "    }\n",
              "\n",
              "    .dataframe thead th {\n",
              "        text-align: right;\n",
              "    }\n",
              "</style>\n",
              "<table border=\"1\" class=\"dataframe\">\n",
              "  <thead>\n",
              "    <tr style=\"text-align: right;\">\n",
              "      <th></th>\n",
              "      <th>Title</th>\n",
              "      <th>Premiere</th>\n",
              "      <th>Length</th>\n",
              "      <th>Language</th>\n",
              "    </tr>\n",
              "  </thead>\n",
              "  <tbody>\n",
              "    <tr>\n",
              "      <th>231</th>\n",
              "      <td>Jim Jefferies: Intolerant</td>\n",
              "      <td>July 7, 2020</td>\n",
              "      <td>1 hour, 6 min.</td>\n",
              "      <td>English</td>\n",
              "    </tr>\n",
              "    <tr>\n",
              "      <th>232</th>\n",
              "      <td>Urzila Carlson: Overqualified Loser</td>\n",
              "      <td>July 14, 2020</td>\n",
              "      <td>1 hour, 2 min.</td>\n",
              "      <td>English</td>\n",
              "    </tr>\n",
              "    <tr>\n",
              "      <th>233</th>\n",
              "      <td>Jack Whitehall: I'm Only Joking</td>\n",
              "      <td>July 21, 2020</td>\n",
              "      <td>58 min.</td>\n",
              "      <td>English</td>\n",
              "    </tr>\n",
              "    <tr>\n",
              "      <th>235</th>\n",
              "      <td>Sam Jay: 3 in the Morning[1]</td>\n",
              "      <td>August 4, 2020</td>\n",
              "      <td>TBA</td>\n",
              "      <td>English</td>\n",
              "    </tr>\n",
              "    <tr>\n",
              "      <th>236</th>\n",
              "      <td>Rob Schneider: Asian Momma, Mexican Kids[2]</td>\n",
              "      <td>August 11, 2020</td>\n",
              "      <td>TBA</td>\n",
              "      <td>English</td>\n",
              "    </tr>\n",
              "  </tbody>\n",
              "</table>\n",
              "</div>"
            ],
            "text/plain": [
              "                                           Title  ... Language\n",
              "231                    Jim Jefferies: Intolerant  ...  English\n",
              "232          Urzila Carlson: Overqualified Loser  ...  English\n",
              "233              Jack Whitehall: I'm Only Joking  ...  English\n",
              "235                 Sam Jay: 3 in the Morning[1]  ...  English\n",
              "236  Rob Schneider: Asian Momma, Mexican Kids[2]  ...  English\n",
              "\n",
              "[5 rows x 4 columns]"
            ]
          },
          "metadata": {
            "tags": []
          },
          "execution_count": 27
        }
      ]
    },
    {
      "cell_type": "code",
      "metadata": {
        "id": "SH_BvfS22lrF",
        "colab_type": "code",
        "colab": {
          "base_uri": "https://localhost:8080/",
          "height": 417
        },
        "outputId": "ecdc2f51-0f04-4c9c-e6c0-8f9c6756e16b"
      },
      "source": [
        "# when we try to turn the Premiere column into date-time it throws off an error. \n",
        "# Upon inspecting the Wikipedia table, we see that the reason for this error is because there is an endnote reference in one of the cells in the Premiere column (i.e. [1] appears).\n",
        "# the following code ain't pretty, but gets the job done of preprocessing this column to account for endnote references\n",
        "# released_com_specials_2['Premiere'] = released_com_specials_2['Premiere'].str.strip().str.replace('[[1]]','').str.replace(']','').str.replace('[','')\n",
        "\n",
        "# This code uses regular expressions in Pandas to replace any digits or characters within brackets, as well as any brackets themselves:\n",
        "released_com_specials_2_regex = released_com_specials_2.replace(to_replace = \"\\[([A-Za-z0-9_]+)\\]\", value = '', regex = True)\n",
        "\n",
        "released_com_specials_2_regex"
      ],
      "execution_count": 29,
      "outputs": [
        {
          "output_type": "execute_result",
          "data": {
            "text/html": [
              "<div>\n",
              "<style scoped>\n",
              "    .dataframe tbody tr th:only-of-type {\n",
              "        vertical-align: middle;\n",
              "    }\n",
              "\n",
              "    .dataframe tbody tr th {\n",
              "        vertical-align: top;\n",
              "    }\n",
              "\n",
              "    .dataframe thead th {\n",
              "        text-align: right;\n",
              "    }\n",
              "</style>\n",
              "<table border=\"1\" class=\"dataframe\">\n",
              "  <thead>\n",
              "    <tr style=\"text-align: right;\">\n",
              "      <th></th>\n",
              "      <th>Title</th>\n",
              "      <th>Premiere</th>\n",
              "      <th>Length</th>\n",
              "      <th>Language</th>\n",
              "    </tr>\n",
              "  </thead>\n",
              "  <tbody>\n",
              "    <tr>\n",
              "      <th>0</th>\n",
              "      <td>Bill Burr: You People Are All the Same</td>\n",
              "      <td>August 16, 2012</td>\n",
              "      <td>1 hour, 8 min.</td>\n",
              "      <td>English</td>\n",
              "    </tr>\n",
              "    <tr>\n",
              "      <th>1</th>\n",
              "      <td>Craig Ferguson: I'm Here to Help</td>\n",
              "      <td>March 15, 2013</td>\n",
              "      <td>1 hour, 21 min.</td>\n",
              "      <td>English</td>\n",
              "    </tr>\n",
              "    <tr>\n",
              "      <th>2</th>\n",
              "      <td>John Hodgman: Ragnarok</td>\n",
              "      <td>June 20, 2013</td>\n",
              "      <td>1 hour, 7 min.</td>\n",
              "      <td>English</td>\n",
              "    </tr>\n",
              "    <tr>\n",
              "      <th>3</th>\n",
              "      <td>Mike Birbiglia: My Girlfriend's Boyfriend</td>\n",
              "      <td>August 23, 2013</td>\n",
              "      <td>1 hour, 15 min.</td>\n",
              "      <td>English</td>\n",
              "    </tr>\n",
              "    <tr>\n",
              "      <th>4</th>\n",
              "      <td>Iliza Shlesinger: War Paint</td>\n",
              "      <td>September 1, 2013</td>\n",
              "      <td>1 hour, 15 min.</td>\n",
              "      <td>English</td>\n",
              "    </tr>\n",
              "    <tr>\n",
              "      <th>...</th>\n",
              "      <td>...</td>\n",
              "      <td>...</td>\n",
              "      <td>...</td>\n",
              "      <td>...</td>\n",
              "    </tr>\n",
              "    <tr>\n",
              "      <th>231</th>\n",
              "      <td>Jim Jefferies: Intolerant</td>\n",
              "      <td>July 7, 2020</td>\n",
              "      <td>1 hour, 6 min.</td>\n",
              "      <td>English</td>\n",
              "    </tr>\n",
              "    <tr>\n",
              "      <th>232</th>\n",
              "      <td>Urzila Carlson: Overqualified Loser</td>\n",
              "      <td>July 14, 2020</td>\n",
              "      <td>1 hour, 2 min.</td>\n",
              "      <td>English</td>\n",
              "    </tr>\n",
              "    <tr>\n",
              "      <th>233</th>\n",
              "      <td>Jack Whitehall: I'm Only Joking</td>\n",
              "      <td>July 21, 2020</td>\n",
              "      <td>58 min.</td>\n",
              "      <td>English</td>\n",
              "    </tr>\n",
              "    <tr>\n",
              "      <th>235</th>\n",
              "      <td>Sam Jay: 3 in the Morning</td>\n",
              "      <td>August 4, 2020</td>\n",
              "      <td>TBA</td>\n",
              "      <td>English</td>\n",
              "    </tr>\n",
              "    <tr>\n",
              "      <th>236</th>\n",
              "      <td>Rob Schneider: Asian Momma, Mexican Kids</td>\n",
              "      <td>August 11, 2020</td>\n",
              "      <td>TBA</td>\n",
              "      <td>English</td>\n",
              "    </tr>\n",
              "  </tbody>\n",
              "</table>\n",
              "<p>236 rows × 4 columns</p>\n",
              "</div>"
            ],
            "text/plain": [
              "                                         Title  ... Language\n",
              "0       Bill Burr: You People Are All the Same  ...  English\n",
              "1             Craig Ferguson: I'm Here to Help  ...  English\n",
              "2                       John Hodgman: Ragnarok  ...  English\n",
              "3    Mike Birbiglia: My Girlfriend's Boyfriend  ...  English\n",
              "4                  Iliza Shlesinger: War Paint  ...  English\n",
              "..                                         ...  ...      ...\n",
              "231                  Jim Jefferies: Intolerant  ...  English\n",
              "232        Urzila Carlson: Overqualified Loser  ...  English\n",
              "233            Jack Whitehall: I'm Only Joking  ...  English\n",
              "235                  Sam Jay: 3 in the Morning  ...  English\n",
              "236   Rob Schneider: Asian Momma, Mexican Kids  ...  English\n",
              "\n",
              "[236 rows x 4 columns]"
            ]
          },
          "metadata": {
            "tags": []
          },
          "execution_count": 29
        }
      ]
    },
    {
      "cell_type": "code",
      "metadata": {
        "id": "gLqyCxmduQ-7",
        "colab_type": "code",
        "colab": {
          "base_uri": "https://localhost:8080/",
          "height": 417
        },
        "outputId": "184db50f-5434-4e01-b485-d44bff1157fc"
      },
      "source": [
        "# after that pre-processing step, we can now convert the Premiere column into a release year\n",
        "# we create a new column for this.\n",
        "# note that if this step doesn't work, it is likely that we need to do further pre-processing for the Premiere column. i.e., in that situation it's likely that not all the cells are in the correct format etc to be converted into date-time formatting\n",
        "# if that's the case then go check all the rows in the Premiere column of the wikipedia table to see what looks out of format etc\n",
        "released_com_specials_2_regex['Release-Date'] = pd.to_datetime(released_com_specials_2_regex['Premiere'])\n",
        "released_com_specials_2_regex"
      ],
      "execution_count": 31,
      "outputs": [
        {
          "output_type": "execute_result",
          "data": {
            "text/html": [
              "<div>\n",
              "<style scoped>\n",
              "    .dataframe tbody tr th:only-of-type {\n",
              "        vertical-align: middle;\n",
              "    }\n",
              "\n",
              "    .dataframe tbody tr th {\n",
              "        vertical-align: top;\n",
              "    }\n",
              "\n",
              "    .dataframe thead th {\n",
              "        text-align: right;\n",
              "    }\n",
              "</style>\n",
              "<table border=\"1\" class=\"dataframe\">\n",
              "  <thead>\n",
              "    <tr style=\"text-align: right;\">\n",
              "      <th></th>\n",
              "      <th>Title</th>\n",
              "      <th>Premiere</th>\n",
              "      <th>Length</th>\n",
              "      <th>Language</th>\n",
              "      <th>Release-Date</th>\n",
              "    </tr>\n",
              "  </thead>\n",
              "  <tbody>\n",
              "    <tr>\n",
              "      <th>0</th>\n",
              "      <td>Bill Burr: You People Are All the Same</td>\n",
              "      <td>August 16, 2012</td>\n",
              "      <td>1 hour, 8 min.</td>\n",
              "      <td>English</td>\n",
              "      <td>2012-08-16</td>\n",
              "    </tr>\n",
              "    <tr>\n",
              "      <th>1</th>\n",
              "      <td>Craig Ferguson: I'm Here to Help</td>\n",
              "      <td>March 15, 2013</td>\n",
              "      <td>1 hour, 21 min.</td>\n",
              "      <td>English</td>\n",
              "      <td>2013-03-15</td>\n",
              "    </tr>\n",
              "    <tr>\n",
              "      <th>2</th>\n",
              "      <td>John Hodgman: Ragnarok</td>\n",
              "      <td>June 20, 2013</td>\n",
              "      <td>1 hour, 7 min.</td>\n",
              "      <td>English</td>\n",
              "      <td>2013-06-20</td>\n",
              "    </tr>\n",
              "    <tr>\n",
              "      <th>3</th>\n",
              "      <td>Mike Birbiglia: My Girlfriend's Boyfriend</td>\n",
              "      <td>August 23, 2013</td>\n",
              "      <td>1 hour, 15 min.</td>\n",
              "      <td>English</td>\n",
              "      <td>2013-08-23</td>\n",
              "    </tr>\n",
              "    <tr>\n",
              "      <th>4</th>\n",
              "      <td>Iliza Shlesinger: War Paint</td>\n",
              "      <td>September 1, 2013</td>\n",
              "      <td>1 hour, 15 min.</td>\n",
              "      <td>English</td>\n",
              "      <td>2013-09-01</td>\n",
              "    </tr>\n",
              "    <tr>\n",
              "      <th>...</th>\n",
              "      <td>...</td>\n",
              "      <td>...</td>\n",
              "      <td>...</td>\n",
              "      <td>...</td>\n",
              "      <td>...</td>\n",
              "    </tr>\n",
              "    <tr>\n",
              "      <th>231</th>\n",
              "      <td>Jim Jefferies: Intolerant</td>\n",
              "      <td>July 7, 2020</td>\n",
              "      <td>1 hour, 6 min.</td>\n",
              "      <td>English</td>\n",
              "      <td>2020-07-07</td>\n",
              "    </tr>\n",
              "    <tr>\n",
              "      <th>232</th>\n",
              "      <td>Urzila Carlson: Overqualified Loser</td>\n",
              "      <td>July 14, 2020</td>\n",
              "      <td>1 hour, 2 min.</td>\n",
              "      <td>English</td>\n",
              "      <td>2020-07-14</td>\n",
              "    </tr>\n",
              "    <tr>\n",
              "      <th>233</th>\n",
              "      <td>Jack Whitehall: I'm Only Joking</td>\n",
              "      <td>July 21, 2020</td>\n",
              "      <td>58 min.</td>\n",
              "      <td>English</td>\n",
              "      <td>2020-07-21</td>\n",
              "    </tr>\n",
              "    <tr>\n",
              "      <th>235</th>\n",
              "      <td>Sam Jay: 3 in the Morning</td>\n",
              "      <td>August 4, 2020</td>\n",
              "      <td>TBA</td>\n",
              "      <td>English</td>\n",
              "      <td>2020-08-04</td>\n",
              "    </tr>\n",
              "    <tr>\n",
              "      <th>236</th>\n",
              "      <td>Rob Schneider: Asian Momma, Mexican Kids</td>\n",
              "      <td>August 11, 2020</td>\n",
              "      <td>TBA</td>\n",
              "      <td>English</td>\n",
              "      <td>2020-08-11</td>\n",
              "    </tr>\n",
              "  </tbody>\n",
              "</table>\n",
              "<p>236 rows × 5 columns</p>\n",
              "</div>"
            ],
            "text/plain": [
              "                                         Title  ... Release-Date\n",
              "0       Bill Burr: You People Are All the Same  ...   2012-08-16\n",
              "1             Craig Ferguson: I'm Here to Help  ...   2013-03-15\n",
              "2                       John Hodgman: Ragnarok  ...   2013-06-20\n",
              "3    Mike Birbiglia: My Girlfriend's Boyfriend  ...   2013-08-23\n",
              "4                  Iliza Shlesinger: War Paint  ...   2013-09-01\n",
              "..                                         ...  ...          ...\n",
              "231                  Jim Jefferies: Intolerant  ...   2020-07-07\n",
              "232        Urzila Carlson: Overqualified Loser  ...   2020-07-14\n",
              "233            Jack Whitehall: I'm Only Joking  ...   2020-07-21\n",
              "235                  Sam Jay: 3 in the Morning  ...   2020-08-04\n",
              "236   Rob Schneider: Asian Momma, Mexican Kids  ...   2020-08-11\n",
              "\n",
              "[236 rows x 5 columns]"
            ]
          },
          "metadata": {
            "tags": []
          },
          "execution_count": 31
        }
      ]
    },
    {
      "cell_type": "code",
      "metadata": {
        "id": "QSNMxy9x2chL",
        "colab_type": "code",
        "colab": {
          "base_uri": "https://localhost:8080/",
          "height": 417
        },
        "outputId": "ba7f700b-ac55-4324-92e4-544e833045b0"
      },
      "source": [
        "# create a new column called 'Release-Year' based off of the year\n",
        "released_com_specials_2_regex['Release-Year'] = pd.DatetimeIndex(released_com_specials_2_regex['Release-Date']).year\n",
        "released_com_specials_2_regex"
      ],
      "execution_count": 32,
      "outputs": [
        {
          "output_type": "execute_result",
          "data": {
            "text/html": [
              "<div>\n",
              "<style scoped>\n",
              "    .dataframe tbody tr th:only-of-type {\n",
              "        vertical-align: middle;\n",
              "    }\n",
              "\n",
              "    .dataframe tbody tr th {\n",
              "        vertical-align: top;\n",
              "    }\n",
              "\n",
              "    .dataframe thead th {\n",
              "        text-align: right;\n",
              "    }\n",
              "</style>\n",
              "<table border=\"1\" class=\"dataframe\">\n",
              "  <thead>\n",
              "    <tr style=\"text-align: right;\">\n",
              "      <th></th>\n",
              "      <th>Title</th>\n",
              "      <th>Premiere</th>\n",
              "      <th>Length</th>\n",
              "      <th>Language</th>\n",
              "      <th>Release-Date</th>\n",
              "      <th>Release-Year</th>\n",
              "    </tr>\n",
              "  </thead>\n",
              "  <tbody>\n",
              "    <tr>\n",
              "      <th>0</th>\n",
              "      <td>Bill Burr: You People Are All the Same</td>\n",
              "      <td>August 16, 2012</td>\n",
              "      <td>1 hour, 8 min.</td>\n",
              "      <td>English</td>\n",
              "      <td>2012-08-16</td>\n",
              "      <td>2012</td>\n",
              "    </tr>\n",
              "    <tr>\n",
              "      <th>1</th>\n",
              "      <td>Craig Ferguson: I'm Here to Help</td>\n",
              "      <td>March 15, 2013</td>\n",
              "      <td>1 hour, 21 min.</td>\n",
              "      <td>English</td>\n",
              "      <td>2013-03-15</td>\n",
              "      <td>2013</td>\n",
              "    </tr>\n",
              "    <tr>\n",
              "      <th>2</th>\n",
              "      <td>John Hodgman: Ragnarok</td>\n",
              "      <td>June 20, 2013</td>\n",
              "      <td>1 hour, 7 min.</td>\n",
              "      <td>English</td>\n",
              "      <td>2013-06-20</td>\n",
              "      <td>2013</td>\n",
              "    </tr>\n",
              "    <tr>\n",
              "      <th>3</th>\n",
              "      <td>Mike Birbiglia: My Girlfriend's Boyfriend</td>\n",
              "      <td>August 23, 2013</td>\n",
              "      <td>1 hour, 15 min.</td>\n",
              "      <td>English</td>\n",
              "      <td>2013-08-23</td>\n",
              "      <td>2013</td>\n",
              "    </tr>\n",
              "    <tr>\n",
              "      <th>4</th>\n",
              "      <td>Iliza Shlesinger: War Paint</td>\n",
              "      <td>September 1, 2013</td>\n",
              "      <td>1 hour, 15 min.</td>\n",
              "      <td>English</td>\n",
              "      <td>2013-09-01</td>\n",
              "      <td>2013</td>\n",
              "    </tr>\n",
              "    <tr>\n",
              "      <th>...</th>\n",
              "      <td>...</td>\n",
              "      <td>...</td>\n",
              "      <td>...</td>\n",
              "      <td>...</td>\n",
              "      <td>...</td>\n",
              "      <td>...</td>\n",
              "    </tr>\n",
              "    <tr>\n",
              "      <th>231</th>\n",
              "      <td>Jim Jefferies: Intolerant</td>\n",
              "      <td>July 7, 2020</td>\n",
              "      <td>1 hour, 6 min.</td>\n",
              "      <td>English</td>\n",
              "      <td>2020-07-07</td>\n",
              "      <td>2020</td>\n",
              "    </tr>\n",
              "    <tr>\n",
              "      <th>232</th>\n",
              "      <td>Urzila Carlson: Overqualified Loser</td>\n",
              "      <td>July 14, 2020</td>\n",
              "      <td>1 hour, 2 min.</td>\n",
              "      <td>English</td>\n",
              "      <td>2020-07-14</td>\n",
              "      <td>2020</td>\n",
              "    </tr>\n",
              "    <tr>\n",
              "      <th>233</th>\n",
              "      <td>Jack Whitehall: I'm Only Joking</td>\n",
              "      <td>July 21, 2020</td>\n",
              "      <td>58 min.</td>\n",
              "      <td>English</td>\n",
              "      <td>2020-07-21</td>\n",
              "      <td>2020</td>\n",
              "    </tr>\n",
              "    <tr>\n",
              "      <th>235</th>\n",
              "      <td>Sam Jay: 3 in the Morning</td>\n",
              "      <td>August 4, 2020</td>\n",
              "      <td>TBA</td>\n",
              "      <td>English</td>\n",
              "      <td>2020-08-04</td>\n",
              "      <td>2020</td>\n",
              "    </tr>\n",
              "    <tr>\n",
              "      <th>236</th>\n",
              "      <td>Rob Schneider: Asian Momma, Mexican Kids</td>\n",
              "      <td>August 11, 2020</td>\n",
              "      <td>TBA</td>\n",
              "      <td>English</td>\n",
              "      <td>2020-08-11</td>\n",
              "      <td>2020</td>\n",
              "    </tr>\n",
              "  </tbody>\n",
              "</table>\n",
              "<p>236 rows × 6 columns</p>\n",
              "</div>"
            ],
            "text/plain": [
              "                                         Title  ... Release-Year\n",
              "0       Bill Burr: You People Are All the Same  ...         2012\n",
              "1             Craig Ferguson: I'm Here to Help  ...         2013\n",
              "2                       John Hodgman: Ragnarok  ...         2013\n",
              "3    Mike Birbiglia: My Girlfriend's Boyfriend  ...         2013\n",
              "4                  Iliza Shlesinger: War Paint  ...         2013\n",
              "..                                         ...  ...          ...\n",
              "231                  Jim Jefferies: Intolerant  ...         2020\n",
              "232        Urzila Carlson: Overqualified Loser  ...         2020\n",
              "233            Jack Whitehall: I'm Only Joking  ...         2020\n",
              "235                  Sam Jay: 3 in the Morning  ...         2020\n",
              "236   Rob Schneider: Asian Momma, Mexican Kids  ...         2020\n",
              "\n",
              "[236 rows x 6 columns]"
            ]
          },
          "metadata": {
            "tags": []
          },
          "execution_count": 32
        }
      ]
    },
    {
      "cell_type": "code",
      "metadata": {
        "id": "y61C7i5DZhtt",
        "colab_type": "code",
        "colab": {
          "base_uri": "https://localhost:8080/",
          "height": 193
        },
        "outputId": "2f169d60-82b9-44ea-a720-91540286b357"
      },
      "source": [
        "# let's show the number of released comedy specials produced each year:\n",
        "released_com_specials_2_regex['Release-Year'].value_counts(ascending=False)"
      ],
      "execution_count": 33,
      "outputs": [
        {
          "output_type": "execute_result",
          "data": {
            "text/plain": [
              "2018    59\n",
              "2017    54\n",
              "2019    45\n",
              "2020    27\n",
              "2016    27\n",
              "2015    12\n",
              "2013     6\n",
              "2014     5\n",
              "2012     1\n",
              "Name: Release-Year, dtype: int64"
            ]
          },
          "metadata": {
            "tags": []
          },
          "execution_count": 33
        }
      ]
    },
    {
      "cell_type": "code",
      "metadata": {
        "id": "BVnNP2BsnnGM",
        "colab_type": "code",
        "colab": {
          "base_uri": "https://localhost:8080/",
          "height": 193
        },
        "outputId": "7dd36463-faaa-4c61-a88a-bed1fed08f3b"
      },
      "source": [
        "# do the same thing but show the counts as a percentage of total. E.g. years 2017 + 2018 + 2019 combined are ~66% of total original comedies released\n",
        "released_com_specials_2_regex['Release-Year'].value_counts(normalize=True)"
      ],
      "execution_count": 34,
      "outputs": [
        {
          "output_type": "execute_result",
          "data": {
            "text/plain": [
              "2018    0.250000\n",
              "2017    0.228814\n",
              "2019    0.190678\n",
              "2020    0.114407\n",
              "2016    0.114407\n",
              "2015    0.050847\n",
              "2013    0.025424\n",
              "2014    0.021186\n",
              "2012    0.004237\n",
              "Name: Release-Year, dtype: float64"
            ]
          },
          "metadata": {
            "tags": []
          },
          "execution_count": 34
        }
      ]
    },
    {
      "cell_type": "code",
      "metadata": {
        "id": "W4PL0Hi2aENV",
        "colab_type": "code",
        "colab": {
          "base_uri": "https://localhost:8080/",
          "height": 175
        },
        "outputId": "24d33739-ffe8-4b04-873c-369353926e5e"
      },
      "source": [
        "# great - now let's put each of these into their own variable which we'll ultimately put into a bar chart\n",
        "year_list = [2012,2013,2014,2015,2016,2017,2018,2019,2020]\n",
        "for year in year_list:\n",
        "  print(year,released_com_specials_2_regex['Release-Year'].value_counts()[year])"
      ],
      "execution_count": 36,
      "outputs": [
        {
          "output_type": "stream",
          "text": [
            "2012 1\n",
            "2013 6\n",
            "2014 5\n",
            "2015 12\n",
            "2016 27\n",
            "2017 54\n",
            "2018 59\n",
            "2019 45\n",
            "2020 27\n"
          ],
          "name": "stdout"
        }
      ]
    },
    {
      "cell_type": "code",
      "metadata": {
        "id": "xOMHsdhxlkGk",
        "colab_type": "code",
        "colab": {
          "base_uri": "https://localhost:8080/",
          "height": 35
        },
        "outputId": "6b2eb458-5c9b-408c-d1ab-7484f90b7379"
      },
      "source": [
        "# let's put all this into a function and then call the function for the other tables on the page:\n",
        "year_list_try = []\n",
        "for year in range(2012,2021):\n",
        "  movie_count = {year: released_com_specials_2_regex['Release-Year'].value_counts()[year]}\n",
        "  year_list_try.append(movie_count)\n",
        "  # released_com_specials_2_regex['Release-Year'].value_counts()[year]\n",
        "print(year_list_try)"
      ],
      "execution_count": 40,
      "outputs": [
        {
          "output_type": "stream",
          "text": [
            "[{2012: 1}, {2013: 6}, {2014: 5}, {2015: 12}, {2016: 27}, {2017: 54}, {2018: 59}, {2019: 45}, {2020: 27}]\n"
          ],
          "name": "stdout"
        }
      ]
    },
    {
      "cell_type": "code",
      "metadata": {
        "id": "0_2DktFe8upo",
        "colab_type": "code",
        "colab": {
          "base_uri": "https://localhost:8080/",
          "height": 353
        },
        "outputId": "5397721d-8d07-4f00-a66e-33c5ea04ef3a"
      },
      "source": [
        "import seaborn as sns\n",
        "import matplotlib.pyplot as plt\n",
        "# Plotting a bar graph of the number of stores in each city, for the first ten cities listed\n",
        "# in the column 'City'\n",
        "movie_years = released_com_specials_2_regex['Release-Year'].value_counts()\n",
        "plt.figure(figsize=(10,5))\n",
        "sns.barplot(movie_years.index, movie_years.values, alpha=0.8)\n",
        "plt.title('Netflix Comedy Specials Over Time')\n",
        "plt.ylabel('Number of Comedy Specials Released', fontsize=12)\n",
        "plt.xlabel('Year', fontsize=12)\n",
        "plt.show()"
      ],
      "execution_count": 42,
      "outputs": [
        {
          "output_type": "display_data",
          "data": {
            "image/png": "[encoded data removed]",
            "text/plain": [
              "<Figure size 720x360 with 1 Axes>"
            ]
          },
          "metadata": {
            "tags": [],
            "needs_background": "light"
          }
        }
      ]
    },
    {
      "cell_type": "code",
      "metadata": {
        "id": "McSJ8po624sD",
        "colab_type": "code",
        "colab": {}
      },
      "source": [
        "# let's put all this into a function and then call the function for the other tables on the page:\n"
      ],
      "execution_count": null,
      "outputs": []
    }
  ]
}